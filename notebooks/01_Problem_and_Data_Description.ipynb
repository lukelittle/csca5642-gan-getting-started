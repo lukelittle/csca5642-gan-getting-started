{
 "cells": [
  {
   "cell_type": "markdown",
   "metadata": {},
   "source": [
    "# Problem and Data Description\n",
    "\n",
    "## 1. Competition Overview\n",
    "\n",
    "The [\"GANs: Getting Started\"](https://www.kaggle.com/competitions/gan-getting-started) Kaggle competition challenges participants to generate Monet-style images using Generative Adversarial Networks (GANs). This is an image-to-image translation problem where we transform regular photographs into images that mimic Claude Monet's distinctive impressionist style."
   ]
  },
  {
   "cell_type": "markdown",
   "metadata": {},
   "source": [
    "## 2. Problem Statement\n",
    "\n",
    "### Objective\n",
    "Generate 7,000-10,000 images in the style of Monet paintings that achieve a low MiFID score.\n",
    "\n",
    "### Evaluation Metric\n",
    "**Memorization-informed Fréchet Inception Distance (MiFID)**: A measure of similarity between generated images and real Monet paintings. Lower scores indicate better performance.\n",
    "\n",
    "The MiFID score extends the traditional FID metric by penalizing direct copying or memorization of the training data. This ensures that models are truly learning to generate new Monet-style images rather than simply reproducing the training examples.\n",
    "\n",
    "### Submission Requirements\n",
    "- A zip file containing 7,000-10,000 JPEG images (256x256 pixels)\n",
    "- Each image should resemble a Monet painting in style"
   ]
  },
  {
   "cell_type": "markdown",
   "metadata": {},
   "source": [
    "## 3. Dataset Description\n",
    "\n",
    "The competition provides the dataset in two formats:\n",
    "\n",
    "1. **JPEG Format**:\n",
    "   - `monet_jpg/`: 300 Monet artwork images (256x256 pixels)\n",
    "   - `photo_jpg/`: 7,038 natural photos (256x256 pixels)\n",
    "\n",
    "2. **TFRecord Format** (same images, different format):\n",
    "   - `monet_tfrec/`: The same 300 Monet paintings in TFRecord format\n",
    "   - `photo_tfrec/`: The same 7,038 photos in TFRecord format\n",
    "\n",
    "The TFRecord format is optimized for TensorFlow, while the JPEG format is more universally accessible. You can use either format depending on your implementation preference."
   ]
  },
  {
   "cell_type": "markdown",
   "metadata": {},
   "source": [
    "## 4. Setup Dependencies\n",
    "\n",
    "Before running the code cells, ensure you have the necessary packages installed:"
   ]
  },
  {
   "cell_type": "code",
   "execution_count": null,
   "metadata": {},
   "outputs": [],
   "source": [
    "# Import necessary libraries\n",
    "import os\n",
    "import numpy as np\n",
    "import matplotlib.pyplot as plt\n",
    "import tensorflow as tf\n",
    "\n",
    "# Set random seeds for reproducibility\n",
    "np.random.seed(42)\n",
    "tf.random.set_seed(42)\n",
    "\n",
    "# Set paths (adjust as needed for your environment)\n",
    "MONET_JPG_PATH = \"../data/monet_jpg/\"\n",
    "PHOTO_JPG_PATH = \"../data/photo_jpg/\"\n",
    "MONET_TFREC_PATH = \"../data/monet_tfrec/\"\n",
    "PHOTO_TFREC_PATH = \"../data/photo_tfrec/\""
   ]
  },
  {
   "cell_type": "code",
   "execution_count": null,
   "metadata": {},
   "outputs": [],
   "source": [
    "# Function to load and display images\n",
    "def load_image(image_path):\n",
    "    \"\"\"Load and normalize an image from a file path.\"\"\"\n",
    "    img = tf.io.read_file(image_path)\n",
    "    img = tf.image.decode_jpeg(img, channels=3)\n",
    "    img = tf.cast(img, tf.float32) / 255.0  # Normalize to [0,1]\n",
    "    return img\n",
    "\n",
    "def display_images(monet_paths, photo_paths, n=3):\n",
    "    \"\"\"Display n Monet paintings and n photos side by side.\"\"\"\n",
    "    plt.figure(figsize=(15, 5))\n",
    "    \n",
    "    # Display Monet paintings\n",
    "    for i in range(n):\n",
    "        plt.subplot(2, n, i+1)\n",
    "        img = load_image(monet_paths[i])\n",
    "        plt.imshow(img)\n",
    "        plt.title(f\"Monet {i+1}\")\n",
    "        plt.axis('off')\n",
    "    \n",
    "    # Display photos\n",
    "    for i in range(n):\n",
    "        plt.subplot(2, n, n+i+1)\n",
    "        img = load_image(photo_paths[i])\n",
    "        plt.imshow(img)\n",
    "        plt.title(f\"Photo {i+1}\")\n",
    "        plt.axis('off')\n",
    "    \n",
    "    plt.tight_layout()\n",
    "    plt.show()"
   ]
  },
  {
   "cell_type": "code",
   "execution_count": null,
   "metadata": {},
   "outputs": [],
   "source": [
    "# Get sample image paths and display them\n",
    "# Note: This code assumes the data has been downloaded and placed in the specified directories\n",
    "# If running in Kaggle, adjust paths accordingly\n",
    "\n",
    "try:\n",
    "    monet_files = [os.path.join(MONET_JPG_PATH, f) for f in os.listdir(MONET_JPG_PATH) if f.endswith('.jpg')][:3]\n",
    "    photo_files = [os.path.join(PHOTO_JPG_PATH, f) for f in os.listdir(PHOTO_JPG_PATH) if f.endswith('.jpg')][:3]\n",
    "    \n",
    "    # Display sample images\n",
    "    display_images(monet_files, photo_files)\n",
    "    \n",
    "    print(f\"Total Monet paintings: {len([f for f in os.listdir(MONET_JPG_PATH) if f.endswith('.jpg')])}\")\n",
    "    print(f\"Total photos: {len([f for f in os.listdir(PHOTO_JPG_PATH) if f.endswith('.jpg')])}\")\n",
    "except FileNotFoundError:\n",
    "    print(\"Data files not found. Please download the dataset or adjust the paths.\")"
   ]
  },
  {
   "cell_type": "markdown",
   "metadata": {},
   "source": [
    "## 5. Data Characteristics\n",
    "\n",
    "### Monet Paintings\n",
    "- **Style**: Impressionist with visible brushstrokes\n",
    "- **Color palette**: Often uses vibrant blues, greens, and purples\n",
    "- **Subjects**: Landscapes, water scenes, gardens, and nature\n",
    "- **Lighting**: Emphasis on natural light and its effects\n",
    "- **Texture**: Distinctive brushstroke patterns that create texture\n",
    "\n",
    "### Photographs\n",
    "- **Content**: Various natural scenes and landscapes\n",
    "- **Resolution**: All images are 256x256 pixels\n",
    "- **Format**: RGB color images\n",
    "- **Variety**: Includes different lighting conditions, seasons, and subjects\n",
    "\n",
    "### Key Challenge\n",
    "This is an **unpaired image translation** problem. We don't have direct pairs of \"before/after\" images (photos and their corresponding Monet-style versions). Instead, we have two separate collections and must learn the style transformation between them."
   ]
  },
  {
   "cell_type": "markdown",
   "metadata": {},
   "source": [
    "## 6. Reading TFRecord Data\n",
    "\n",
    "If you prefer to use the TFRecord format, here's how to read the data:"
   ]
  },
  {
   "cell_type": "code",
   "execution_count": null,
   "metadata": {},
   "outputs": [],
   "source": [
    "def decode_image(image):\n",
    "    \"\"\"Decode and preprocess TFRecord image data.\"\"\"\n",
    "    image = tf.image.decode_jpeg(image, channels=3)\n",
    "    image = tf.cast(image, tf.float32) / 255.0  # Normalize to [0,1]\n",
    "    image = tf.reshape(image, [256, 256, 3])\n",
    "    return image\n",
    "\n",
    "def read_tfrecord(example):\n",
    "    \"\"\"Parse a single TFRecord example.\"\"\"\n",
    "    features = {\n",
    "        \"image\": tf.io.FixedLenFeature([], tf.string),\n",
    "        \"image_name\": tf.io.FixedLenFeature([], tf.string),\n",
    "    }\n",
    "    example = tf.io.parse_single_example(example, features)\n",
    "    image = decode_image(example['image'])\n",
    "    return image\n",
    "\n",
    "def load_dataset(filenames, labeled=True, ordered=False):\n",
    "    \"\"\"Load a TFRecord dataset.\"\"\"\n",
    "    dataset = tf.data.TFRecordDataset(filenames)\n",
    "    dataset = dataset.map(read_tfrecord, num_parallel_calls=tf.data.AUTOTUNE)\n",
    "    return dataset\n",
    "\n",
    "# Example usage (commented out to avoid execution if data isn't available)\n",
    "'''\n",
    "monet_ds = load_dataset(tf.io.gfile.glob(MONET_TFREC_PATH + '/*.tfrec'))\n",
    "photo_ds = load_dataset(tf.io.gfile.glob(PHOTO_TFREC_PATH + '/*.tfrec'))\n",
    "\n",
    "# Display a few examples\n",
    "plt.figure(figsize=(15, 5))\n",
    "for i, img in enumerate(monet_ds.take(3)):\n",
    "    plt.subplot(1, 3, i+1)\n",
    "    plt.imshow(img)\n",
    "    plt.axis('off')\n",
    "plt.tight_layout()\n",
    "plt.show()\n",
    "'''"
   ]
  },
  {
   "cell_type": "markdown",
   "metadata": {},
   "source": [
    "## 7. Technical Approach\n",
    "\n",
    "To address this unpaired image-to-image translation problem, we'll implement a **CycleGAN** architecture. CycleGAN is particularly well-suited for this task because:\n",
    "\n",
    "1. **Unpaired Training**: It doesn't require paired training data, which is perfect for our scenario where we have separate collections of Monet paintings and photographs.\n",
    "\n",
    "2. **Cycle Consistency**: It uses cycle-consistency loss to ensure that the content of the original image is preserved while the style is transformed.\n",
    "\n",
    "3. **Bidirectional Mapping**: It learns both the photo-to-Monet and Monet-to-photo transformations simultaneously, which helps maintain the integrity of the content.\n",
    "\n",
    "4. **Style Transfer Capability**: It has been proven effective for artistic style transfer tasks similar to our Monet painting generation.\n",
    "\n",
    "### CycleGAN Architecture Overview\n",
    "\n",
    "The CycleGAN architecture consists of:\n",
    "\n",
    "- **Two Generators**: \n",
    "  - G: Transforms photos to Monet-style images\n",
    "  - F: Transforms Monet-style images back to photos\n",
    "\n",
    "- **Two Discriminators**:\n",
    "  - D_X: Distinguishes real photos from generated photos\n",
    "  - D_Y: Distinguishes real Monet paintings from generated Monet-style images\n",
    "\n",
    "- **Loss Functions**:\n",
    "  - Adversarial loss: Makes generated images indistinguishable from real images\n",
    "  - Cycle consistency loss: Ensures x → G(x) → F(G(x)) ≈ x and y → F(y) → G(F(y)) ≈ y\n",
    "  - Identity loss (optional): Helps preserve color composition when appropriate\n",
    "\n",
    "In the next notebook, we'll perform exploratory data analysis to better understand the characteristics of Monet's style before implementing our model."
   ]
  }
 ],
 "metadata": {
  "kernelspec": {
   "display_name": "venv",
   "language": "python",
   "name": "python3"
  },
  "language_info": {
   "codemirror_mode": {
    "name": "ipython",
    "version": 3
   },
   "file_extension": ".py",
   "mimetype": "text/x-python",
   "name": "python",
   "nbconvert_exporter": "python",
   "pygments_lexer": "ipython3",
   "version": "3.11.11"
  }
 },
 "nbformat": 4,
 "nbformat_minor": 4
}
