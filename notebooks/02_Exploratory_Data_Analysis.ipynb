{
 "cells": [
  {
   "cell_type": "markdown",
   "metadata": {},
   "source": [
    "# Exploratory Data Analysis: Monet Painting Dataset\n",
    "\n",
    "In this notebook, we'll perform exploratory data analysis of the Monet Painting Dataset. We'll examine the characteristics of both the Monet paintings and the photographs, analyze color distributions, identify key style elements, and prepare the data for our GAN model."
   ]
  },
  {
   "cell_type": "markdown",
   "metadata": {},
   "source": [
    "## 1. Load Libraries"
   ]
  },
  {
   "cell_type": "code",
   "execution_count": null,
   "metadata": {},
   "outputs": [],
   "source": [
    "# Load essential libraries\n",
    "import numpy as np\n",
    "import matplotlib.pyplot as plt\n",
    "from PIL import Image\n",
    "import os\n",
    "import random\n",
    "import cv2\n",
    "import tensorflow as tf\n",
    "from sklearn.cluster import KMeans\n",
    "from collections import Counter\n",
    "from skimage import color\n",
    "import math\n",
    "\n",
    "# Set plot style - using a style compatible with newer matplotlib versions\n",
    "plt.style.use('default')\n",
    "\n",
    "# For reproducibility\n",
    "np.random.seed(42)\n",
    "random.seed(42)\n",
    "tf.random.set_seed(42)"
   ]
  },
  {
   "cell_type": "markdown",
   "metadata": {},
   "source": [
    "## 2. Load Data\n",
    "\n",
    "First, we'll load the dataset and examine its structure. We'll set up paths for both Kaggle environment and local development."
   ]
  },
  {
   "cell_type": "code",
   "execution_count": null,
   "metadata": {},
   "outputs": [],
   "source": [
    "# Define paths\n",
    "# Check if we're in Kaggle environment\n",
    "IN_KAGGLE = os.path.exists('/kaggle/input')\n",
    "\n",
    "if IN_KAGGLE:\n",
    "    # Kaggle paths\n",
    "    MONET_JPG_DIR = \"/kaggle/input/gan-getting-started/monet_jpg\"\n",
    "    PHOTO_JPG_DIR = \"/kaggle/input/gan-getting-started/photo_jpg\"\n",
    "    MONET_TFREC_DIR = \"/kaggle/input/gan-getting-started/monet_tfrec\"\n",
    "    PHOTO_TFREC_DIR = \"/kaggle/input/gan-getting-started/photo_tfrec\"\n",
    "else:\n",
    "    # Local paths - adjust these based on your data location\n",
    "    BASE_DIR = '../data'\n",
    "    MONET_JPG_DIR = os.path.join(BASE_DIR, 'monet_jpg')\n",
    "    PHOTO_JPG_DIR = os.path.join(BASE_DIR, 'photo_jpg')\n",
    "    MONET_TFREC_DIR = os.path.join(BASE_DIR, 'monet_tfrec')\n",
    "    PHOTO_TFREC_DIR = os.path.join(BASE_DIR, 'photo_tfrec')\n",
    "\n",
    "# Check if the paths exist\n",
    "print(f\"Monet JPG directory exists: {os.path.exists(MONET_JPG_DIR)}\")\n",
    "print(f\"Photo JPG directory exists: {os.path.exists(PHOTO_JPG_DIR)}\")\n",
    "print(f\"Monet TFRecord directory exists: {os.path.exists(MONET_TFREC_DIR)}\")\n",
    "print(f\"Photo TFRecord directory exists: {os.path.exists(PHOTO_TFREC_DIR)}\")"
   ]
  },
  {
   "cell_type": "code",
   "execution_count": null,
   "metadata": {},
   "outputs": [],
   "source": [
    "# Count the number of images in each directory\n",
    "try:\n",
    "    monet_jpg_count = len([f for f in os.listdir(MONET_JPG_DIR) if f.endswith('.jpg')])\n",
    "    photo_jpg_count = len([f for f in os.listdir(PHOTO_JPG_DIR) if f.endswith('.jpg')])\n",
    "    \n",
    "    print(f\"Number of Monet paintings: {monet_jpg_count}\")\n",
    "    print(f\"Number of photographs: {photo_jpg_count}\")\n",
    "except Exception as e:\n",
    "    print(f\"Error counting images: {e}\")\n",
    "    print(\"Please ensure the dataset is downloaded and the paths are correctly set.\")"
   ]
  },
  {
   "cell_type": "markdown",
   "metadata": {},
   "source": [
    "## 3. Helper Functions\n",
    "\n",
    "Let's define some helper functions to load and process images."
   ]
  },
  {
   "cell_type": "code",
   "execution_count": null,
   "metadata": {},
   "outputs": [],
   "source": [
    "def load_image(image_path):\n",
    "    \"\"\"Load an image from a file path.\"\"\"\n",
    "    img = tf.io.read_file(image_path)\n",
    "    img = tf.image.decode_jpeg(img, channels=3)\n",
    "    img = tf.cast(img, tf.float32) / 255.0  # Normalize to [0,1]\n",
    "    return img.numpy()\n",
    "\n",
    "def load_random_images(directory, n=5):\n",
    "    \"\"\"Load n random images from a directory.\"\"\"\n",
    "    image_files = [os.path.join(directory, f) for f in os.listdir(directory) if f.endswith('.jpg')]\n",
    "    selected_files = random.sample(image_files, min(n, len(image_files)))\n",
    "    return [load_image(f) for f in selected_files], selected_files\n",
    "\n",
    "def display_images(images, titles=None, cols=5, figsize=(15, 10)):\n",
    "    \"\"\"Display a list of images in a grid.\"\"\"\n",
    "    n_images = len(images)\n",
    "    rows = math.ceil(n_images / cols)\n",
    "    \n",
    "    fig = plt.figure(figsize=figsize)\n",
    "    for i, image in enumerate(images):\n",
    "        ax = fig.add_subplot(rows, cols, i+1)\n",
    "        if titles is not None:\n",
    "            ax.set_title(titles[i])\n",
    "        plt.imshow(image)\n",
    "        plt.axis('off')\n",
    "    plt.tight_layout()\n",
    "    plt.show()\n",
    "    \n",
    "def get_image_dimensions(directory):\n",
    "    \"\"\"Get dimensions of all images in a directory.\"\"\"\n",
    "    dimensions = []\n",
    "    for filename in os.listdir(directory):\n",
    "        if filename.endswith('.jpg'):\n",
    "            img_path = os.path.join(directory, filename)\n",
    "            with Image.open(img_path) as img:\n",
    "                dimensions.append(img.size)\n",
    "    return dimensions"
   ]
  },
  {
   "cell_type": "markdown",
   "metadata": {},
   "source": [
    "## 4. Visual Exploration\n",
    "\n",
    "Let's visualize some sample images from both the Monet paintings and photographs datasets."
   ]
  },
  {
   "cell_type": "code",
   "execution_count": null,
   "metadata": {},
   "outputs": [],
   "source": [
    "# Load random Monet paintings\n",
    "monet_images, monet_files = load_random_images(MONET_JPG_DIR, n=5)\n",
    "monet_titles = [os.path.basename(f) for f in monet_files]\n",
    "\n",
    "# Display Monet paintings\n",
    "print(\"Sample Monet Paintings:\")\n",
    "display_images(monet_images, monet_titles)"
   ]
  },
  {
   "cell_type": "code",
   "execution_count": null,
   "metadata": {},
   "outputs": [],
   "source": [
    "# Load random photographs\n",
    "photo_images, photo_files = load_random_images(PHOTO_JPG_DIR, n=5)\n",
    "photo_titles = [os.path.basename(f) for f in photo_files]\n",
    "\n",
    "# Display photographs\n",
    "print(\"Sample Photographs:\")\n",
    "display_images(photo_images, photo_titles)"
   ]
  },
  {
   "cell_type": "markdown",
   "metadata": {},
   "source": [
    "## 5. Image Dimensions Analysis\n",
    "\n",
    "Let's analyze the dimensions of the images in both datasets to ensure they are consistent."
   ]
  },
  {
   "cell_type": "code",
   "execution_count": null,
   "metadata": {},
   "outputs": [],
   "source": [
    "# Get dimensions of Monet paintings\n",
    "try:\n",
    "    monet_dimensions = get_image_dimensions(MONET_JPG_DIR)\n",
    "    monet_dim_counter = Counter(monet_dimensions)\n",
    "    \n",
    "    print(\"Monet Paintings Dimensions:\")\n",
    "    for dim, count in monet_dim_counter.items():\n",
    "        print(f\"{dim}: {count} images\")\n",
    "except Exception as e:\n",
    "    print(f\"Error analyzing Monet dimensions: {e}\")"
   ]
  },
  {
   "cell_type": "code",
   "execution_count": null,
   "metadata": {},
   "outputs": [],
   "source": [
    "# Get dimensions of photographs\n",
    "try:\n",
    "    photo_dimensions = get_image_dimensions(PHOTO_JPG_DIR)\n",
    "    photo_dim_counter = Counter(photo_dimensions)\n",
    "    \n",
    "    print(\"Photographs Dimensions:\")\n",
    "    for dim, count in photo_dim_counter.items():\n",
    "        print(f\"{dim}: {count} images\")\n",
    "except Exception as e:\n",
    "    print(f\"Error analyzing Photo dimensions: {e}\")"
   ]
  },
  {
   "cell_type": "markdown",
   "metadata": {},
   "source": [
    "## 6. Color Analysis\n",
    "\n",
    "Now, let's analyze the color distributions in both datasets to understand Monet's distinctive style."
   ]
  },
  {
   "cell_type": "code",
   "execution_count": null,
   "metadata": {},
   "outputs": [],
   "source": [
    "def extract_color_palette(image, n_colors=5):\n",
    "    \"\"\"Extract the dominant colors from an image using K-means clustering.\"\"\"\n",
    "    # Reshape the image to be a list of pixels\n",
    "    pixels = image.reshape(-1, 3)\n",
    "    \n",
    "    # Cluster the pixel intensities\n",
    "    clt = KMeans(n_clusters=n_colors, random_state=42)\n",
    "    clt.fit(pixels)\n",
    "    \n",
    "    # Count the number of pixels in each cluster\n",
    "    hist = Counter(clt.labels_)\n",
    "    # Sort by frequency\n",
    "    hist = sorted(hist.items(), key=lambda x: x[1], reverse=True)\n",
    "    \n",
    "    # Get the colors\n",
    "    colors = clt.cluster_centers_\n",
    "    \n",
    "    # Return colors sorted by frequency\n",
    "    return [colors[label] for label, _ in hist]\n",
    "\n",
    "def plot_color_palette(colors, title=\"Color Palette\"):\n",
    "    \"\"\"Plot a color palette.\"\"\"\n",
    "    plt.figure(figsize=(10, 2))\n",
    "    plt.title(title)\n",
    "    for i, color in enumerate(colors):\n",
    "        plt.fill_betweenx(y=[0, 1], x1=i, x2=i+1, color=color)\n",
    "    plt.xlim(0, len(colors))\n",
    "    plt.yticks([])\n",
    "    plt.xticks([])\n",
    "    plt.show()"
   ]
  },
  {
   "cell_type": "code",
   "execution_count": null,
   "metadata": {},
   "outputs": [],
   "source": [
    "# Analyze color palettes of Monet paintings\n",
    "print(\"Color Palettes of Monet Paintings:\")\n",
    "for i, image in enumerate(monet_images[:3]):  # Analyze first 3 images\n",
    "    colors = extract_color_palette(image)\n",
    "    plot_color_palette(colors, title=f\"Monet Painting {i+1} - {monet_titles[i]}\")"
   ]
  },
  {
   "cell_type": "code",
   "execution_count": null,
   "metadata": {},
   "outputs": [],
   "source": [
    "# Analyze color palettes of photographs\n",
    "print(\"Color Palettes of Photographs:\")\n",
    "for i, image in enumerate(photo_images[:3]):  # Analyze first 3 images\n",
    "    colors = extract_color_palette(image)\n",
    "    plot_color_palette(colors, title=f\"Photograph {i+1} - {photo_titles[i]}\")"
   ]
  },
  {
   "cell_type": "markdown",
   "metadata": {},
   "source": [
    "## 7. RGB and HSV Color Distribution Analysis\n",
    "\n",
    "Let's analyze the RGB and HSV color distributions to better understand the differences between Monet paintings and photographs."
   ]
  },
  {
   "cell_type": "code",
   "execution_count": null,
   "metadata": {},
   "outputs": [],
   "source": [
    "def plot_rgb_histograms(image, title=\"RGB Histograms\"):\n",
    "    \"\"\"Plot RGB histograms for an image.\"\"\"\n",
    "    plt.figure(figsize=(15, 5))\n",
    "    plt.suptitle(title)\n",
    "    \n",
    "    colors = ['red', 'green', 'blue']\n",
    "    for i, color in enumerate(colors):\n",
    "        plt.subplot(1, 3, i+1)\n",
    "        plt.title(f\"{color.capitalize()} Channel\")\n",
    "        plt.hist(image[:, :, i].flatten(), bins=50, color=color, alpha=0.7)\n",
    "        plt.xlim(0, 1)\n",
    "        plt.grid(True, alpha=0.3)\n",
    "    \n",
    "    plt.tight_layout()\n",
    "    plt.show()\n",
    "\n",
    "def plot_hsv_histograms(image, title=\"HSV Histograms\"):\n",
    "    \"\"\"Plot HSV histograms for an image.\"\"\"\n",
    "    # Convert RGB to HSV\n",
    "    hsv_image = color.rgb2hsv(image)\n",
    "    \n",
    "    plt.figure(figsize=(15, 5))\n",
    "    plt.suptitle(title)\n",
    "    \n",
    "    channels = ['Hue', 'Saturation', 'Value']\n",
    "    colors = ['purple', 'magenta', 'black']\n",
    "    \n",
    "    for i, (channel, plot_color) in enumerate(zip(channels, colors)):\n",
    "        plt.subplot(1, 3, i+1)\n",
    "        plt.title(channel)\n",
    "        plt.hist(hsv_image[:, :, i].flatten(), bins=50, color=plot_color, alpha=0.7)\n",
    "        plt.xlim(0, 1)\n",
    "        plt.grid(True, alpha=0.3)\n",
    "    \n",
    "    plt.tight_layout()\n",
    "    plt.show()"
   ]
  },
  {
   "cell_type": "code",
   "execution_count": null,
   "metadata": {},
   "outputs": [],
   "source": [
    "# Analyze RGB and HSV distributions for a Monet painting\n",
    "monet_sample = monet_images[0]\n",
    "plt.figure(figsize=(5, 5))\n",
    "plt.imshow(monet_sample)\n",
    "plt.title(\"Sample Monet Painting\")\n",
    "plt.axis('off')\n",
    "plt.show()\n",
    "\n",
    "plot_rgb_histograms(monet_sample, title=\"RGB Histograms - Monet Painting\")\n",
    "plot_hsv_histograms(monet_sample, title=\"HSV Histograms - Monet Painting\")"
   ]
  },
  {
   "cell_type": "code",
   "execution_count": null,
   "metadata": {},
   "outputs": [],
   "source": [
    "# Analyze RGB and HSV distributions for a photograph\n",
    "photo_sample = photo_images[0]\n",
    "plt.figure(figsize=(5, 5))\n",
    "plt.imshow(photo_sample)\n",
    "plt.title(\"Sample Photograph\")\n",
    "plt.axis('off')\n",
    "plt.show()\n",
    "\n",
    "plot_rgb_histograms(photo_sample, title=\"RGB Histograms - Photograph\")\n",
    "plot_hsv_histograms(photo_sample, title=\"HSV Histograms - Photograph\")"
   ]
  },
  {
   "cell_type": "markdown",
   "metadata": {},
   "source": [
    "## 8. Texture Analysis\n",
    "\n",
    "Let's analyze the texture characteristics of Monet paintings compared to photographs using edge detection."
   ]
  },
  {
   "cell_type": "code",
   "execution_count": null,
   "metadata": {},
   "outputs": [],
   "source": [
    "def compute_edge_density(image):\n",
    "    \"\"\"Compute the edge density of an image using Canny edge detection.\"\"\"\n",
    "    # Convert to grayscale\n",
    "    gray = cv2.cvtColor((image * 255).astype(np.uint8), cv2.COLOR_RGB2GRAY)\n",
    "    \n",
    "    # Apply Canny edge detection\n",
    "    edges = cv2.Canny(gray, 100, 200)\n",
    "    \n",
    "    # Compute edge density\n",
    "    edge_density = np.sum(edges > 0) / (edges.shape[0] * edges.shape[1])\n",
    "    \n",
    "    return edge_density, edges\n",
    "\n",
    "def plot_edge_detection(image, title=\"Edge Detection\"):\n",
    "    \"\"\"Plot original image and its edge detection result.\"\"\"\n",
    "    edge_density, edges = compute_edge_density(image)\n",
    "    \n",
    "    plt.figure(figsize=(12, 5))\n",
    "    plt.suptitle(f\"{title} - Edge Density: {edge_density:.4f}\")\n",
    "    \n",
    "    plt.subplot(1, 2, 1)\n",
    "    plt.title(\"Original Image\")\n",
    "    plt.imshow(image)\n",
    "    plt.axis('off')\n",
    "    \n",
    "    plt.subplot(1, 2, 2)\n",
    "    plt.title(\"Edge Detection\")\n",
    "    plt.imshow(edges, cmap='gray')\n",
    "    plt.axis('off')\n",
    "    \n",
    "    plt.tight_layout()\n",
    "    plt.show()"
   ]
  },
  {
   "cell_type": "code",
   "execution_count": null,
   "metadata": {},
   "outputs": [],
   "source": [
    "# Analyze texture of Monet paintings\n",
    "print(\"Texture Analysis of Monet Paintings:\")\n",
    "for i, image in enumerate(monet_images[:2]):  # Analyze first 2 images\n",
    "    plot_edge_detection(image, title=f\"Monet Painting {i+1}\")"
   ]
  },
  {
   "cell_type": "code",
   "execution_count": null,
   "metadata": {},
   "outputs": [],
   "source": [
    "# Analyze texture of photographs\n",
    "print(\"Texture Analysis of Photographs:\")\n",
    "for i, image in enumerate(photo_images[:2]):  # Analyze first 2 images\n",
    "    plot_edge_detection(image, title=f\"Photograph {i+1}\")"
   ]
  },
  {
   "cell_type": "markdown",
   "metadata": {},
   "source": [
    "## 9. Key Findings and Insights\n",
    "\n",
    "Based on our exploratory data analysis, we can draw several insights about the differences between Monet paintings and photographs:\n",
    "\n",
    "1. **Color Palette**: Monet paintings typically feature a more vibrant and diverse color palette, with an emphasis on blues, greens, and warm tones. The photographs tend to have more natural and muted colors.\n",
    "\n",
    "2. **Texture**: Monet paintings show a distinctive brushstroke texture that creates a higher edge density compared to photographs. This impressionistic style is characterized by visible brushstrokes rather than smooth transitions.\n",
    "\n",
    "3. **Color Distribution**: The RGB and HSV histograms reveal that Monet paintings often have a broader distribution of colors, particularly in the blue channel, and higher saturation values compared to photographs.\n",
    "\n",
    "4. **Image Dimensions**: Both datasets contain images of consistent dimensions, which is important for training our GAN model.\n",
    "\n",
    "These insights will guide our approach to developing a GAN model that can effectively transform photographs into Monet-style paintings. The model will need to learn to:\n",
    "\n",
    "- Adjust the color palette to match Monet's style\n",
    "- Add appropriate texture and brushstroke effects\n",
    "- Enhance certain color channels and saturation levels\n",
    "- Preserve the overall composition and subject matter of the original photographs\n",
    "\n",
    "In the next notebook, we'll design and implement our GAN architecture based on these findings."
   ]
  }
 ],
 "metadata": {
  "kernelspec": {
   "display_name": "venv",
   "language": "python",
   "name": "python3"
  },
  "language_info": {
   "codemirror_mode": {
    "name": "ipython",
    "version": 3
   },
   "file_extension": ".py",
   "mimetype": "text/x-python",
   "name": "python",
   "nbconvert_exporter": "python",
   "pygments_lexer": "ipython3",
   "version": "3.11.11"
  }
 },
 "nbformat": 4,
 "nbformat_minor": 4
}
